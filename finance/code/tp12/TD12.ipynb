{
 "cells": [
  {
   "cell_type": "code",
   "execution_count": 7,
   "id": "e51db52f",
   "metadata": {},
   "outputs": [],
   "source": [
    "from collections import defaultdict\n",
    "from dataclasses import dataclass, replace\n",
    "import math\n",
    "from typing import Dict\n",
    "\n",
    "import numpy as np"
   ]
  },
  {
   "cell_type": "code",
   "execution_count": 16,
   "id": "990007e7",
   "metadata": {},
   "outputs": [],
   "source": [
    "@dataclass\n",
    "class Bond:\n",
    "    coupons: Dict[float, float]\n",
    "    principal: float\n",
    "    maturity: float\n",
    "    \n",
    "    @property\n",
    "    def cashflows(self):\n",
    "        c = defaultdict(lambda: 0, self.coupons)\n",
    "        c[self.maturity] += self.principal\n",
    "        return dict(c)\n",
    "    \n",
    "    def compute_price(self, y: float, t: float = 0) -> float:\n",
    "        assert 0 <= t <= self.maturity\n",
    "        return sum([c * math.exp(-y * (tc - t)) for tc, c in self.cashflows.items() if tc >= t]) \n",
    "    \n",
    "    def compute_duration(self, y: float) -> float:\n",
    "        B = self.compute_price(y)\n",
    "        return sum([t * c * math.exp(- y * t) for t, c in self.cashflows.items()]) / B \n",
    "        \n",
    "    def compute_convexity(self, y: float) -> float:\n",
    "        B = self.compute_price(y)\n",
    "        return sum([t ** 2 * c * math.exp(- y * t) for t, c in self.cashflows.items()]) / B \n",
    "                "
   ]
  },
  {
   "cell_type": "code",
   "execution_count": 28,
   "id": "c1ae3fff",
   "metadata": {},
   "outputs": [],
   "source": [
    "def compute_price_impact(bond: Bond, y: float, delta_y: float) -> float:\n",
    "    return bond.compute_price(y + delta_y) - bond.compute_price(y)"
   ]
  },
  {
   "cell_type": "code",
   "execution_count": 30,
   "id": "6a43d7a5",
   "metadata": {},
   "outputs": [],
   "source": [
    "def estimate_price_impact(bond: Bond, y: float, delta_y: float, second_order: bool = False) -> float:\n",
    "    B, D, C = bond.compute_price(y), bond.compute_duration(y), bond.compute_convexity(y)\n",
    "    return - B * D * delta_y + int(second_order) * 0.5 * B * C * (delta_y ** 2)"
   ]
  },
  {
   "cell_type": "code",
   "execution_count": 35,
   "id": "720355c6",
   "metadata": {},
   "outputs": [
    {
     "name": "stdout",
     "output_type": "stream",
     "text": [
      "B = 83.481\n",
      "D = 5.447\n",
      "C = 37.356\n",
      "\n",
      "*** Parallel shift of 0.1% ***\n",
      "\n",
      "True impact: -0.4531\n",
      "First order impact: -0.4547\n",
      "Second order impact: -0.4531\n",
      "\n",
      "*** Parallel shift of 1.0% ***\n",
      "\n",
      "True impact: -4.3947\n",
      "First order impact: -4.5468\n",
      "Second order impact: -4.3909\n"
     ]
    }
   ],
   "source": [
    "bond = Bond(\n",
    "    coupons={x: 5 for x in np.arange(0.5, 8.5, 0.5)},\n",
    "    principal=100,\n",
    "    maturity=8,\n",
    ")\n",
    "\n",
    "y = 0.13\n",
    "\n",
    "print(f'B = {bond.compute_price(y):.03f}')\n",
    "print(f'D = {bond.compute_duration(y):.03f}')\n",
    "print(f'C = {bond.compute_convexity(y):.03f}')\n",
    "\n",
    "for delta_y in (0.001, 0.01):\n",
    "\n",
    "    print(f'\\n*** Parallel shift of {delta_y * 100}% ***\\n')\n",
    "    print(f'True impact: {compute_price_impact(bond, y, delta_y):.4f}')\n",
    "    print(f'First order impact: {estimate_price_impact(bond, y, delta_y):.4f}')\n",
    "    print(f'Second order impact: {estimate_price_impact(bond, y, delta_y, second_order=True):.4f}')"
   ]
  },
  {
   "cell_type": "code",
   "execution_count": null,
   "id": "e9250f43",
   "metadata": {},
   "outputs": [],
   "source": []
  }
 ],
 "metadata": {
  "kernelspec": {
   "display_name": "Python 3 (ipykernel)",
   "language": "python",
   "name": "python3"
  },
  "language_info": {
   "codemirror_mode": {
    "name": "ipython",
    "version": 3
   },
   "file_extension": ".py",
   "mimetype": "text/x-python",
   "name": "python",
   "nbconvert_exporter": "python",
   "pygments_lexer": "ipython3",
   "version": "3.8.12"
  }
 },
 "nbformat": 4,
 "nbformat_minor": 5
}
