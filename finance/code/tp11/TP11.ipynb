{
 "cells": [
  {
   "cell_type": "code",
   "execution_count": 1,
   "id": "e51db52f",
   "metadata": {},
   "outputs": [],
   "source": [
    "from collections import defaultdict\n",
    "from dataclasses import dataclass\n",
    "import math\n",
    "from typing import Dict\n",
    "\n",
    "import matplotlib.pyplot as plt\n",
    "import numpy as np"
   ]
  },
  {
   "cell_type": "markdown",
   "id": "bd0990df",
   "metadata": {},
   "source": [
    "# Bonds"
   ]
  },
  {
   "cell_type": "code",
   "execution_count": 2,
   "id": "716e5c92",
   "metadata": {},
   "outputs": [],
   "source": [
    "@dataclass\n",
    "class Bond:\n",
    "    coupons: Dict[float, float]\n",
    "    principal: float\n",
    "    maturity: float\n",
    "    \n",
    "    @property\n",
    "    def cashflows(self):\n",
    "        c = defaultdict(lambda: 0, self.coupons)\n",
    "        c[self.maturity] += self.principal\n",
    "        return dict(c)\n",
    "    \n",
    "    def compute_price(self, y: float, t: float = 0) -> float:\n",
    "        assert 0 <= t <= self.maturity\n",
    "        return sum([c * math.exp(-y * (tc - t)) for tc, c in self.cashflows.items() if tc >= t])                 "
   ]
  },
  {
   "cell_type": "code",
   "execution_count": 3,
   "id": "1450c26e",
   "metadata": {},
   "outputs": [],
   "source": [
    "def compute_yield(bond: Bond, price: float, epsilon=1e-6) -> float:\n",
    "    last_y = 1000\n",
    "    y = 100\n",
    "    compute_residual = lambda y: price - bond.compute_price(y=y)\n",
    "    r = compute_residual(y)\n",
    "    while abs(r) > epsilon:\n",
    "        swap = y\n",
    "        if r > 0:\n",
    "            y /= 2\n",
    "        else:\n",
    "            while r < 0:\n",
    "                y = (last_y + y) * 0.5\n",
    "                r = compute_residual(y)\n",
    "        last_y = swap\n",
    "        r = compute_residual(y)\n",
    "    return y"
   ]
  },
  {
   "cell_type": "code",
   "execution_count": 4,
   "id": "c3daacd7",
   "metadata": {},
   "outputs": [],
   "source": [
    "bond = Bond(\n",
    "    coupons={x: 5 for x in [0.5, 1, 1.5, 2, 2.5, 3]},\n",
    "    principal=100,\n",
    "    maturity=3,\n",
    ")"
   ]
  },
  {
   "cell_type": "code",
   "execution_count": 5,
   "id": "34dbe06a",
   "metadata": {},
   "outputs": [
    {
     "name": "stdout",
     "output_type": "stream",
     "text": [
      " 9.76 % interest rate required to sell the bond at par.\n"
     ]
    }
   ],
   "source": [
    "y = compute_yield(bond, price=100)\n",
    "print(f'{y * 100: .2f} % interest rate required to sell the bond at par.')"
   ]
  },
  {
   "cell_type": "markdown",
   "id": "4da8eda4",
   "metadata": {},
   "source": [
    "# Interest curve"
   ]
  },
  {
   "cell_type": "code",
   "execution_count": 6,
   "id": "c2e94379",
   "metadata": {},
   "outputs": [],
   "source": [
    "prices = [99.8, 99.6, 99.4, 100.27, 101.57, 103.21, 104.85, 106.36, 107.77, 84.48, 77.72]\n",
    "\n",
    "bonds = [\n",
    "    # semi annually paid bonds\n",
    "    Bond(\n",
    "        coupons={},\n",
    "        principal=100,\n",
    "        maturity=1/12,\n",
    "    ),\n",
    "    Bond(\n",
    "        coupons={},\n",
    "        principal=100,\n",
    "        maturity=2/12,\n",
    "    ),\n",
    "    Bond(\n",
    "        coupons={},\n",
    "        principal=100,\n",
    "        maturity=3/12,\n",
    "    ),\n",
    "    Bond(\n",
    "        coupons={0.5: 1.5},\n",
    "        principal=100,\n",
    "        maturity=6/12,\n",
    "    ),\n",
    "    Bond(\n",
    "        coupons={0.5: 2, 1: 2},\n",
    "        principal=100,\n",
    "        maturity=12/12,\n",
    "    ),\n",
    "    \n",
    "    # annually_paid_bonds\n",
    "    Bond(\n",
    "        coupons={1: 4, 2: 4},\n",
    "        principal=100,\n",
    "        maturity=2,\n",
    "    ),\n",
    "    Bond(\n",
    "        coupons={1: 4, 2: 4, 3: 4},\n",
    "        principal=100,\n",
    "        maturity=3,\n",
    "    ),\n",
    "    Bond(\n",
    "        coupons={1: 4, 2: 4, 3: 4, 4: 4},\n",
    "        principal=100,\n",
    "        maturity=4,\n",
    "    ),\n",
    "    Bond(\n",
    "        coupons={1: 4, 2: 4, 3: 4, 4: 4, 5: 4},\n",
    "        principal=100,\n",
    "        maturity=5,\n",
    "    ),\n",
    "    Bond(\n",
    "        coupons={},\n",
    "        principal=100,\n",
    "        maturity=7,\n",
    "    ),\n",
    "    Bond(\n",
    "        coupons={},\n",
    "        principal=100,\n",
    "        maturity=10,\n",
    "    )\n",
    "]"
   ]
  },
  {
   "cell_type": "code",
   "execution_count": 7,
   "id": "507bf1b3",
   "metadata": {},
   "outputs": [],
   "source": [
    "def bootstrap(bond, price, yields):\n",
    "    all_but_last_cashflows = sum([c * math.exp(- t * yields[t]) for t, c in bond.cashflows.items() if t != bond.maturity])\n",
    "    return -math.log((price - all_but_last_cashflows) / bond.cashflows[bond.maturity]) / bond.maturity"
   ]
  },
  {
   "cell_type": "code",
   "execution_count": 8,
   "id": "578f463f",
   "metadata": {},
   "outputs": [],
   "source": [
    "yields = {}\n",
    "for bond, price in zip(bonds, prices):\n",
    "    yields[bond.maturity] = bootstrap(bond, price, yields)"
   ]
  },
  {
   "cell_type": "code",
   "execution_count": 9,
   "id": "1c869522",
   "metadata": {},
   "outputs": [
    {
     "name": "stdout",
     "output_type": "stream",
     "text": [
      "T (months) - Zero-rate yield\n",
      "   1             2.402%\n",
      "   2             2.405%\n",
      "   3             2.407%\n",
      "   6             2.438%\n",
      "  12             2.387%\n",
      "  24             2.310%\n",
      "  36             2.280%\n",
      "  48             2.289%\n",
      "  60             2.309%\n",
      "  84             2.409%\n",
      " 120             2.521%\n"
     ]
    }
   ],
   "source": [
    "print('T (months) - Zero-rate yield')\n",
    "for t, y in yields.items():\n",
    "    print(f'{int(12 * t): 4d} {\" \" * 10} {y: .03%}')"
   ]
  },
  {
   "cell_type": "code",
   "execution_count": 10,
   "id": "ef4e00c6",
   "metadata": {},
   "outputs": [
    {
     "data": {
      "image/png": "[encoded data removed]",
      "text/plain": [
       "<Figure size 1080x360 with 1 Axes>"
      ]
     },
     "metadata": {
      "needs_background": "light"
     },
     "output_type": "display_data"
    }
   ],
   "source": [
    "fig, ax = plt.subplots(figsize=(15, 5))\n",
    "times = sorted(yields.keys())\n",
    "months = [t * 12 for t in times]\n",
    "ax.plot(months, [100 * yields[t] for t in times], 'gs--')\n",
    "ax.set_xlabel('Maturity (months)')\n",
    "ax.set_ylabel('Zero-rate yield (%)')\n",
    "ax.set_xlim(1, 120)\n",
    "ax.set_xticks(months)\n",
    "plt.show()"
   ]
  },
  {
   "cell_type": "code",
   "execution_count": null,
   "id": "ee4cefc5",
   "metadata": {},
   "outputs": [],
   "source": []
  }
 ],
 "metadata": {
  "kernelspec": {
   "display_name": "Python 3 (ipykernel)",
   "language": "python",
   "name": "python3"
  },
  "language_info": {
   "codemirror_mode": {
    "name": "ipython",
    "version": 3
   },
   "file_extension": ".py",
   "mimetype": "text/x-python",
   "name": "python",
   "nbconvert_exporter": "python",
   "pygments_lexer": "ipython3",
   "version": "3.8.12"
  }
 },
 "nbformat": 4,
 "nbformat_minor": 5
}
