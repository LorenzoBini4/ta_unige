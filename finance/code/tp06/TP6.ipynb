{
 "cells": [
  {
   "cell_type": "code",
   "execution_count": 1,
   "id": "5f09939c",
   "metadata": {},
   "outputs": [],
   "source": [
    "from datetime import datetime, timezone\n",
    "import matplotlib.pyplot as plt\n",
    "import numpy as np"
   ]
  },
  {
   "cell_type": "code",
   "execution_count": 2,
   "id": "81e69665",
   "metadata": {},
   "outputs": [],
   "source": [
    "data = np.loadtxt('../tp03/eur_usd_20120101_20120301.txt')"
   ]
  },
  {
   "cell_type": "code",
   "execution_count": 3,
   "id": "9fb3a571",
   "metadata": {},
   "outputs": [
    {
     "name": "stdout",
     "output_type": "stream",
     "text": [
      "t00 = 2012-01-16 08:18:35\n",
      "t01 = 2012-01-16 08:19:34\n",
      "t02 = 2012-01-18 09:19:56\n",
      "t03 = 2012-01-25 17:55:22\n",
      "t04 = 2012-01-25 19:14:33\n",
      "t05 = 2012-01-26 13:09:02\n",
      "t06 = 2012-01-29 18:00:08\n",
      "t07 = 2012-02-01 07:32:18\n",
      "t08 = 2012-02-01 18:29:38\n",
      "t09 = 2012-02-02 04:10:39\n",
      "t10 = 2012-02-03 13:15:14\n",
      "t11 = 2012-02-03 15:08:38\n",
      "t12 = 2012-02-03 15:14:40\n",
      "t13 = 2012-02-03 15:33:39\n",
      "t14 = 2012-02-09 11:33:03\n",
      "t15 = 2012-02-09 13:24:54\n",
      "t16 = 2012-02-10 09:33:23\n",
      "t17 = 2012-02-10 13:37:53\n",
      "t18 = 2012-02-24 08:04:47\n",
      "t19 = 2012-02-24 17:51:44\n"
     ]
    }
   ],
   "source": [
    "np.random.seed(1)\n",
    "times = sorted(np.random.choice(np.arange(data.shape[0]), 20, replace=False))\n",
    "for i, t in enumerate(times):\n",
    "    print(f't{i:02d} = {datetime.fromtimestamp(data[t, 0])}')\n",
    "\n",
    "every = 15 * 60\n",
    "num_slices = 12\n",
    "total_order = 12e6"
   ]
  },
  {
   "cell_type": "markdown",
   "id": "5041b6a5",
   "metadata": {},
   "source": [
    "# TWAP"
   ]
  },
  {
   "cell_type": "code",
   "execution_count": 4,
   "id": "b62e75eb",
   "metadata": {},
   "outputs": [],
   "source": [
    "def twap(start_time, total_order, num_slices, every):\n",
    "    slice_size = total_order / num_slices\n",
    "    orders = []\n",
    "    t = start_time\n",
    "    for i in range(num_slices):\n",
    "        orders.append((t, slice_size, data[t, 2]))\n",
    "        x = 0\n",
    "        while data[t + x, 0] - data[t, 0] < every:\n",
    "            x += 1\n",
    "        t += x\n",
    "    assert len(orders) == num_slices\n",
    "    mean_price = sum([x[1] * x[2] for x in orders]) / total_order\n",
    "    return mean_price, orders"
   ]
  },
  {
   "cell_type": "code",
   "execution_count": 5,
   "id": "eef8ced4",
   "metadata": {},
   "outputs": [
    {
     "name": "stdout",
     "output_type": "stream",
     "text": [
      "t00: TWAP price = 1.267, ask(t00) = 1.267\n",
      "t01: TWAP price = 1.266, ask(t01) = 1.267\n",
      "t02: TWAP price = 1.281, ask(t02) = 1.279\n",
      "t03: TWAP price = 1.308, ask(t03) = 1.304\n",
      "t04: TWAP price = 1.309, ask(t04) = 1.305\n",
      "t05: TWAP price = 1.316, ask(t05) = 1.315\n",
      "t06: TWAP price = 1.323, ask(t06) = 1.324\n",
      "t07: TWAP price = 1.309, ask(t07) = 1.304\n",
      "t08: TWAP price = 1.316, ask(t08) = 1.318\n",
      "t09: TWAP price = 1.317, ask(t09) = 1.318\n",
      "t10: TWAP price = 1.312, ask(t10) = 1.316\n",
      "t11: TWAP price = 1.312, ask(t11) = 1.309\n",
      "t12: TWAP price = 1.312, ask(t12) = 1.311\n",
      "t13: TWAP price = 1.312, ask(t13) = 1.311\n",
      "t14: TWAP price = 1.327, ask(t14) = 1.327\n",
      "t15: TWAP price = 1.329, ask(t15) = 1.329\n",
      "t16: TWAP price = 1.325, ask(t16) = 1.328\n",
      "t17: TWAP price = 1.318, ask(t17) = 1.318\n",
      "t18: TWAP price = 1.339, ask(t18) = 1.338\n",
      "t19: TWAP price = 1.347, ask(t19) = 1.347\n"
     ]
    }
   ],
   "source": [
    "twap_prices, asks = [], []\n",
    "for i, t in enumerate(times):\n",
    "    twap_price = twap(t, 12e6, 12, 15 * 60)[0]\n",
    "    ask = data[t, 2]\n",
    "    twap_prices.append(twap_price)\n",
    "    asks.append(ask)\n",
    "    print(f't{i:02d}: TWAP price = {twap_price:.3f}, ask(t{i:02d}) = {ask:.3f}')"
   ]
  },
  {
   "cell_type": "markdown",
   "id": "da9e88f7",
   "metadata": {},
   "source": [
    "# VWAP"
   ]
  },
  {
   "cell_type": "code",
   "execution_count": 6,
   "id": "be4163d7",
   "metadata": {},
   "outputs": [],
   "source": [
    "def vwap(start_time, total_order, num_slices, every):\n",
    "    s = data[start_time, 0] % 86400\n",
    "    nb_ticks, _ = np.histogram(data[:, 0] % 86400, np.arange(s, s + every * (num_slices + 1), every))\n",
    "    weights = nb_ticks / nb_ticks.sum()\n",
    "    orders = []\n",
    "    t = start_time\n",
    "    for i in range(num_slices):\n",
    "        slice_size = total_order * weights[i]\n",
    "        orders.append((t, slice_size, data[t, 2]))\n",
    "        x = 0\n",
    "        while data[t + x, 0] - data[t, 0] < every:\n",
    "            x += 1\n",
    "        t += x\n",
    "    assert len(orders) == num_slices\n",
    "    mean_price = sum([x[1] * x[2] for x in orders]) / total_order\n",
    "    return mean_price, orders"
   ]
  },
  {
   "cell_type": "markdown",
   "id": "5a92b751",
   "metadata": {},
   "source": [
    "# Price based"
   ]
  },
  {
   "cell_type": "code",
   "execution_count": 7,
   "id": "e7f50b76",
   "metadata": {},
   "outputs": [],
   "source": [
    "def compute_directional_changes(ts, delta):\n",
    "    mode = 'up'\n",
    "    i_ext, x_ext = 0, ts[0]\n",
    "    dc = []\n",
    "    for i, x in enumerate(ts):\n",
    "        if mode == 'up':\n",
    "            if x < x_ext:\n",
    "                i_ext, x_ext = i, x\n",
    "            elif x - x_ext >= delta * x_ext:\n",
    "                dc.append(('up', i, x, i_ext, x_ext))\n",
    "                i_ext, x_ext = i, x\n",
    "                mode = 'down'\n",
    "        else:\n",
    "            if x > x_ext:\n",
    "                i_ext, x_ext = i, x\n",
    "            elif x_ext - x >= delta * x_ext:\n",
    "                dc.append(('down', i, x, i_ext, x_ext))\n",
    "                i_ext, x_ext = i, x\n",
    "                mode = 'up'\n",
    "    return dc\n",
    "        "
   ]
  },
  {
   "cell_type": "code",
   "execution_count": 8,
   "id": "f14484ac",
   "metadata": {},
   "outputs": [],
   "source": [
    "def choose_delta(max_seconds, num_slices):\n",
    "    delta = 0.1\n",
    "    while True:\n",
    "        dc = [x[1] for x in compute_directional_changes(data[:, 2], delta) if x[0] == 'down']\n",
    "        if len(dc) / (data[-1, 0] - data[0, 0]) * max_seconds >= num_slices:\n",
    "            break\n",
    "        delta /= 2\n",
    "    return delta"
   ]
  },
  {
   "cell_type": "code",
   "execution_count": 9,
   "id": "f97c89ee",
   "metadata": {},
   "outputs": [],
   "source": [
    "def price_based(start_time, total_order, num_slices, every, delta):\n",
    "    dc = [x[1] for x in compute_directional_changes(data[:, 2], delta) if x[0] == 'down']\n",
    "    for i, d in enumerate(dc):\n",
    "        if d > start_time:\n",
    "            break\n",
    "    buy_times = dc[i : i + num_slices]\n",
    "    order_duration = data[buy_times[-1], 0] - data[buy_times[0], 0]\n",
    "    if order_duration > 3600 * 3:\n",
    "        print(f\"Warning, execution over {order_duration // 3600} hours and {order_duration % 3600} seconds\")\n",
    "    \n",
    "    slice_size = total_order / num_slices\n",
    "    orders = []\n",
    "    for t in buy_times:\n",
    "        orders.append((t, slice_size, data[t, 2]))\n",
    "    assert len(orders) == num_slices\n",
    "    mean_price = sum([x[1] * x[2] for x in orders]) / total_order\n",
    "    return mean_price, orders"
   ]
  },
  {
   "cell_type": "markdown",
   "id": "420a857f",
   "metadata": {},
   "source": [
    "# Summary"
   ]
  },
  {
   "cell_type": "code",
   "execution_count": 10,
   "id": "63755689",
   "metadata": {},
   "outputs": [
    {
     "name": "stdout",
     "output_type": "stream",
     "text": [
      "ask(t00) = 1.26716, TWAP price = 1.26651, VWAP price = 1.26652, DC price = 1.26735\n",
      "ask(t01) = 1.26731, TWAP price = 1.26646, VWAP price = 1.26647, DC price = 1.26740\n",
      "ask(t02) = 1.27913, TWAP price = 1.28112, VWAP price = 1.28107, DC price = 1.27944\n",
      "ask(t03) = 1.30438, TWAP price = 1.30782, VWAP price = 1.30764, DC price = 1.30464\n",
      "ask(t04) = 1.30480, TWAP price = 1.30918, VWAP price = 1.30898, DC price = 1.30491\n",
      "ask(t05) = 1.31459, TWAP price = 1.31589, VWAP price = 1.31592, DC price = 1.31458\n",
      "ask(t06) = 1.32381, TWAP price = 1.32258, VWAP price = 1.32258, DC price = 1.32253\n",
      "ask(t07) = 1.30416, TWAP price = 1.30891, VWAP price = 1.30909, DC price = 1.30408\n",
      "ask(t08) = 1.31814, TWAP price = 1.31632, VWAP price = 1.31640, DC price = 1.31813\n",
      "ask(t09) = 1.31836, TWAP price = 1.31730, VWAP price = 1.31730, DC price = 1.31813\n",
      "ask(t10) = 1.31629, TWAP price = 1.31223, VWAP price = 1.31229, DC price = 1.31642\n",
      "ask(t11) = 1.30919, TWAP price = 1.31168, VWAP price = 1.31154, DC price = 1.30926\n",
      "ask(t12) = 1.31087, TWAP price = 1.31180, VWAP price = 1.31171, DC price = 1.31112\n",
      "ask(t13) = 1.31110, TWAP price = 1.31217, VWAP price = 1.31198, DC price = 1.31101\n",
      "ask(t14) = 1.32729, TWAP price = 1.32674, VWAP price = 1.32684, DC price = 1.32720\n",
      "ask(t15) = 1.32889, TWAP price = 1.32886, VWAP price = 1.32889, DC price = 1.32902\n",
      "ask(t16) = 1.32804, TWAP price = 1.32506, VWAP price = 1.32515, DC price = 1.32808\n",
      "ask(t17) = 1.31835, TWAP price = 1.31841, VWAP price = 1.31843, DC price = 1.31817\n",
      "ask(t18) = 1.33835, TWAP price = 1.33873, VWAP price = 1.33872, DC price = 1.33814\n",
      "ask(t19) = 1.34695, TWAP price = 1.34661, VWAP price = 1.34670, DC price = 1.34697\n"
     ]
    }
   ],
   "source": [
    "#delta = choose_delta(max_seconds=3 * 3600, num_slices=num_slices)\n",
    "\n",
    "asks, twap_prices, vwap_prices, dc_prices = [], [], [], []\n",
    "for i, t in enumerate(times):\n",
    "    ask = data[t, 2]\n",
    "    tp = twap(t, total_order, num_slices, every)[0]\n",
    "    vp = vwap(t, total_order, num_slices, every)[0]\n",
    "    dcp = price_based(t, total_order, num_slices, every, delta=1e-5)[0]\n",
    "    asks.append(ask)\n",
    "    twap_prices.append(tp)\n",
    "    vwap_prices.append(vp)\n",
    "    dc_prices.append(dcp)\n",
    "    print(f'ask(t{i:02d}) = {ask:.5f}, TWAP price = {tp:.5f}, VWAP price = {vp:.5f}, DC price = {dcp:.5f}')"
   ]
  },
  {
   "cell_type": "code",
   "execution_count": 11,
   "id": "4e9a4754",
   "metadata": {},
   "outputs": [
    {
     "name": "stdout",
     "output_type": "stream",
     "text": [
      "Mean ask:  1.31186, Mean TWAP:  1.31222, Mean VWAP:  1.31221, Mean DC:  1.31183\n",
      "TWAP - ask: 0.00036\n",
      "VWAP - ask: 0.00035\n",
      "DC - ask: -0.00003\n"
     ]
    }
   ],
   "source": [
    "mean_ask = np.mean(asks)\n",
    "mean_twap = np.mean(twap_prices)\n",
    "mean_vwap = np.mean(vwap_prices)\n",
    "mean_dc = np.mean(dc_prices)\n",
    "print(f'Mean ask: {mean_ask: .5f}, Mean TWAP: {mean_twap: .5f}, Mean VWAP: {mean_vwap: .5f}, Mean DC: {mean_dc: .5f}')\n",
    "print(f'TWAP - ask: {mean_twap - mean_ask :.5f}')\n",
    "print(f'VWAP - ask: {mean_vwap - mean_ask :.5f}')\n",
    "print(f'DC - ask: {mean_dc - mean_ask :.5f}')"
   ]
  },
  {
   "cell_type": "markdown",
   "id": "ee73bfad",
   "metadata": {},
   "source": [
    "# Impact of Market Volatility"
   ]
  },
  {
   "cell_type": "code",
   "execution_count": 12,
   "id": "0eee06bb",
   "metadata": {},
   "outputs": [],
   "source": [
    "import pandas as pd\n",
    "import numpy as np\n",
    "import matplotlib.pyplot as plt\n",
    "\n",
    "# Load data\n",
    "df = pd.read_csv('../tp03/eur_usd_20120101_20120301.txt', sep=\" \", names=[\"timestamp\", \"bid\", \"ask\"])\n",
    "df[\"mid\"] = (df[\"bid\"] + df[\"ask\"]) / 2"
   ]
  },
  {
   "cell_type": "code",
   "execution_count": 13,
   "id": "ff25ed61",
   "metadata": {},
   "outputs": [],
   "source": [
    "df[\"timestamp\"] = pd.to_datetime(df[\"timestamp\"], unit=\"s\")\n",
    "df.set_index(\"timestamp\", inplace=True)\n",
    "df = df[df.index.year != 1970]"
   ]
  },
  {
   "cell_type": "code",
   "execution_count": 23,
   "id": "9016c1b7",
   "metadata": {},
   "outputs": [],
   "source": [
    "# Compute log returns and rolling volatility\n",
    "df[\"returns\"] = np.log(df[\"mid\"]).diff()\n",
    "df[\"volatility\"] = df[\"returns\"].rolling(\"30min\").std()\n",
    "\n",
    "np.random.seed(42)\n",
    "random_times = np.random.choice(df.index, size=20, replace=False)\n",
    "\n",
    "# low/high volatility\n",
    "volatilities = df.loc[random_times, \"volatility\"]\n",
    "median_vol = volatilities.median()\n",
    "low_vol_intervals = volatilities[volatilities <= median_vol].index\n",
    "high_vol_intervals = volatilities[volatilities > median_vol].index\n",
    "\n",
    "def execute_strategy(start_time, total_order, num_slices, every, method, delta=0.0001):\n",
    "    if method == \"TWAP\":\n",
    "        return twap(start_time, total_order, num_slices, every)\n",
    "    elif method == \"VWAP\":\n",
    "        return vwap(start_time, total_order, num_slices, every)\n",
    "    elif method == \"Price Evolution\":\n",
    "        return price_based(start_time, total_order, num_slices, every, delta)\n",
    "    else:\n",
    "        raise ValueError(\"Unknown execution strategy\")\n",
    "\n",
    "# Execution prices for each strategy \n",
    "strategies = [\"TWAP\", \"VWAP\", \"Price Evolution\"]\n",
    "execution_prices = {s: {\"low_vol\": [], \"high_vol\": []} for s in strategies}\n",
    "\n",
    "for time in low_vol_intervals:\n",
    "    start_time = np.searchsorted(data[:, 0], time.timestamp())  # Find closest index for timestamp\n",
    "    for strategy in [\"TWAP\", \"VWAP\", \"Price Evolution\"]:\n",
    "        mean_price, orders = execute_strategy(start_time, total_order=1000, num_slices=10, every=60, method=strategy)\n",
    "        execution_prices[strategy][\"low_vol\"].append(mean_price)\n",
    "\n",
    "for time in high_vol_intervals:\n",
    "    start_time = np.searchsorted(data[:, 0], time.timestamp())  \n",
    "    for strategy in [\"TWAP\", \"VWAP\", \"Price Evolution\"]:\n",
    "        mean_price, orders = execute_strategy(start_time, total_order=1000, num_slices=10, every=60, method=strategy)\n",
    "        execution_prices[strategy][\"high_vol\"].append(mean_price)"
   ]
  },
  {
   "cell_type": "code",
   "execution_count": 25,
   "id": "5b24b8da",
   "metadata": {},
   "outputs": [
    {
     "data": {
      "image/png": "[encoded data removed]",
      "text/plain": [
       "<Figure size 864x360 with 2 Axes>"
      ]
     },
     "metadata": {
      "needs_background": "light"
     },
     "output_type": "display_data"
    }
   ],
   "source": [
    "df_low = pd.DataFrame({\n",
    "    \"TWAP\": pd.Series(execution_prices[\"TWAP\"][\"low_vol\"]),\n",
    "    \"VWAP\": pd.Series(execution_prices[\"VWAP\"][\"low_vol\"]),\n",
    "    \"PE\": pd.Series(execution_prices[\"Price Evolution\"][\"low_vol\"])\n",
    "})\n",
    "df_high = pd.DataFrame({\n",
    "    \"TWAP\": pd.Series(execution_prices[\"TWAP\"][\"high_vol\"]),\n",
    "    \"VWAP\": pd.Series(execution_prices[\"VWAP\"][\"high_vol\"]),\n",
    "    \"PE\": pd.Series(execution_prices[\"Price Evolution\"][\"high_vol\"])\n",
    "})\n",
    "\n",
    "# Plot boxplots separately\n",
    "plt.figure(figsize=(12, 5))\n",
    "plt.subplot(1,2,1)\n",
    "df_low.boxplot()\n",
    "plt.title(\"Execution Prices - Low Volatility\")\n",
    "plt.ylabel(\"Execution Price\")\n",
    "\n",
    "plt.subplot(1,2,2)\n",
    "df_high.boxplot()\n",
    "plt.title(\"Execution Prices - High Volatility\")\n",
    "\n",
    "plt.tight_layout()\n",
    "plt.show()\n"
   ]
  }
 ],
 "metadata": {
  "kernelspec": {
   "display_name": "test_gpu",
   "language": "python",
   "name": "python3"
  },
  "language_info": {
   "codemirror_mode": {
    "name": "ipython",
    "version": 3
   },
   "file_extension": ".py",
   "mimetype": "text/x-python",
   "name": "python",
   "nbconvert_exporter": "python",
   "pygments_lexer": "ipython3",
   "version": "3.8.18"
  }
 },
 "nbformat": 4,
 "nbformat_minor": 5
}
