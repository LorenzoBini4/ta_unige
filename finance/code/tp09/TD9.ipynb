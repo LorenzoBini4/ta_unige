{
 "cells": [
  {
   "cell_type": "code",
   "execution_count": null,
   "id": "c9bff39b",
   "metadata": {},
   "outputs": [],
   "source": [
    "import math\n",
    "\n",
    "import matplotlib.pyplot as plt\n",
    "from scipy.stats import norm"
   ]
  },
  {
   "cell_type": "code",
   "execution_count": null,
   "id": "7f3ce108",
   "metadata": {},
   "outputs": [],
   "source": [
    "S0 = 100      # Initial price\n",
    "K = 120       # Strike\n",
    "T = 1         # Maturity (years)\n",
    "sig = 0.2     # Volatility\n",
    "r = 0.05      # Risk-free rate"
   ]
  },
  {
   "cell_type": "markdown",
   "id": "6b0b1592",
   "metadata": {},
   "source": [
    "# Black-Scholes"
   ]
  },
  {
   "cell_type": "code",
   "execution_count": 3,
   "id": "fc913257",
   "metadata": {},
   "outputs": [],
   "source": [
    "def black_scholes(S0, K, T, r, sig, option_type):\n",
    "    assert option_type in ('call', 'put')\n",
    "    d1 = (math.log(S0 / K) + (r + 0.5 * sig ** 2) * T) / (sig * math.sqrt(T))\n",
    "    d2 = d1 - sig * math.sqrt(T)\n",
    "    c = S0 * norm.cdf(d1) - K * math.exp(-r * T) * norm.cdf(d2)\n",
    "    p = -S0 * norm.cdf(-d1) + K * math.exp(-r * T) * norm.cdf(-d2)\n",
    "    return c if option_type == 'call' else p"
   ]
  },
  {
   "cell_type": "markdown",
   "id": "5c6b37b9",
   "metadata": {},
   "source": [
    "# Binomial Tree"
   ]
  },
  {
   "cell_type": "code",
   "execution_count": 4,
   "id": "3ad49c98",
   "metadata": {},
   "outputs": [],
   "source": [
    "def binomial_tree(N, S0, K , T, r, sig, option_type='call'):\n",
    "    assert option_type in ('call', 'put')\n",
    "    dt = T / N\n",
    "    u = math.exp(sig * math.sqrt(dt))\n",
    "    d = math.exp(-sig * math.sqrt(dt))\n",
    "    pu = (math.exp(r * dt) - d) / (u - d)\n",
    "    value = 0 \n",
    "    for Nu in range(N + 1):\n",
    "        Nd = N - Nu\n",
    "        node_prob = math.comb(N, Nu) * pu ** Nu * (1 - pu) ** Nd\n",
    "        ST = S0 * u ** Nu * d ** Nd\n",
    "        node_value = max(ST - K, 0) if option_type == 'call' else max(K - ST, 0)\n",
    "        value += node_value * node_prob       \n",
    "    return value * math.exp(-r * T)"
   ]
  },
  {
   "cell_type": "markdown",
   "id": "a7af1bd5",
   "metadata": {},
   "source": [
    "# Comparison"
   ]
  },
  {
   "cell_type": "code",
   "execution_count": 10,
   "id": "9168d5a8",
   "metadata": {},
   "outputs": [
    {
     "data": {
      "image/png": "[encoded data removed]",
      "text/plain": [
       "<Figure size 1080x360 with 1 Axes>"
      ]
     },
     "metadata": {
      "needs_background": "light"
     },
     "output_type": "display_data"
    }
   ],
   "source": [
    "Ns = list(map(lambda i: 2 ** i, range(10)))\n",
    "c = black_scholes(S0, K, T, r, sig, 'call')\n",
    "\n",
    "fig = plt.figure(figsize=(15, 5))\n",
    "ax = plt.gca()\n",
    "\n",
    "ax.axhline(c, color='tab:blue', linestyle='--', label='Black-Scholes formula')\n",
    "ax.text(0.65, c, f'{c:.4f}', color='tab:blue', ha=\"right\", va=\"center\")\n",
    "\n",
    "ax.plot(Ns, list(map(lambda n: binomial_tree(n, S0, K, T, r, sig), Ns)), 'xr', label='Binomial Tree')\n",
    "ax.set_xscale('log', base=2)\n",
    "ax.set_xlabel('Number of steps for binomial tree')\n",
    "ax.set_xticks(Ns)\n",
    "\n",
    "ax.grid('on')\n",
    "ax.legend()\n",
    "plt.show()"
   ]
  },
  {
   "cell_type": "code",
   "execution_count": null,
   "id": "45ea38bb",
   "metadata": {},
   "outputs": [],
   "source": []
  }
 ],
 "metadata": {
  "kernelspec": {
   "display_name": "Python 3 (ipykernel)",
   "language": "python",
   "name": "python3"
  },
  "language_info": {
   "codemirror_mode": {
    "name": "ipython",
    "version": 3
   },
   "file_extension": ".py",
   "mimetype": "text/x-python",
   "name": "python",
   "nbconvert_exporter": "python",
   "pygments_lexer": "ipython3",
   "version": "3.8.12"
  }
 },
 "nbformat": 4,
 "nbformat_minor": 5
}
